{
  "cells": [
    {
      "cell_type": "code",
      "execution_count": null,
      "metadata": {
        "colab": {
          "base_uri": "https://localhost:8080/"
        },
        "id": "fyURffWMyFmE",
        "outputId": "643340c1-33b2-45b9-8067-d8b8a97859ae"
      },
      "outputs": [
        {
          "name": "stdout",
          "output_type": "stream",
          "text": [
            "Mounted at /content/gdrive\n"
          ]
        }
      ],
      "source": [
        "import pandas as pd\n",
        "import numpy as np\n",
        "import matplotlib.pyplot as plt\n",
        "\n",
        "from sklearn import linear_model\n",
        "\n",
        "from google.colab import drive\n",
        "drive.mount('/content/gdrive')"
      ]
    },
    {
      "cell_type": "code",
      "execution_count": null,
      "metadata": {
        "colab": {
          "base_uri": "https://localhost:8080/"
        },
        "id": "khdrbY4Cyb45",
        "outputId": "7a92bd72-7a45-4f2f-dd79-86d025304fe3"
      },
      "outputs": [
        {
          "name": "stdout",
          "output_type": "stream",
          "text": [
            "     no_of_pedestrian_walking  vehicles weather_condition  hour_of_day  \\\n",
            "0                          43        28              Rain           22   \n",
            "1                          15        35              Snow           23   \n",
            "2                           6        31             Clear           12   \n",
            "3                           8        28             Clear            1   \n",
            "4                          13        18              Snow            1   \n",
            "..                        ...       ...               ...          ...   \n",
            "495                        11        22              Snow           14   \n",
            "496                        20        15              Snow           20   \n",
            "497                        14        31              Rain           10   \n",
            "498                        42         8              Rain           16   \n",
            "499                        46         9               Fog           14   \n",
            "\n",
            "     ambient_light  \n",
            "0         0.823623  \n",
            "1         0.911783  \n",
            "2         0.914369  \n",
            "3         0.809010  \n",
            "4         0.832156  \n",
            "..             ...  \n",
            "495       0.951368  \n",
            "496       0.769036  \n",
            "497       0.972694  \n",
            "498       0.939970  \n",
            "499       0.891902  \n",
            "\n",
            "[500 rows x 5 columns]\n"
          ]
        }
      ],
      "source": [
        "import pandas as pd\n",
        "import numpy as np\n",
        "from datetime import datetime\n",
        "\n",
        "# Generate consistent data for the dataset\n",
        "rows = 500\n",
        "pedestrian_walking = np.random.randint(0, 50, rows)\n",
        "vehicles = np.random.randint(0, 40, rows)\n",
        "weather_condition = np.random.choice(['Clear', 'Rain', 'Snow', 'Fog'], rows)\n",
        "hour_of_day = np.random.randint(0, 24, rows)\n",
        "\n",
        "# Adjust ambient light based on conditions and hour of the day\n",
        "ambient_light = []\n",
        "for i in range(rows):\n",
        "    if pedestrian_walking[i] > 30 or vehicles[i] > 20:\n",
        "        ambient_light.append(np.random.uniform(0.8, 1))  # High light requirement for high pedestrian or vehicle density\n",
        "    elif weather_condition[i] == 'Fog':\n",
        "        ambient_light.append(np.random.uniform(0.6, 0.8))  # Moderate light requirement for foggy weather\n",
        "    elif weather_condition[i] == 'Rain':\n",
        "        ambient_light.append(np.random.uniform(0.7, 0.9))  # Moderate to high light requirement for rainy weather\n",
        "    elif weather_condition[i] == 'Snow':\n",
        "        ambient_light.append(np.random.uniform(0.7, 0.9))  # Moderate to high light requirement for snowy weather\n",
        "    elif 18 <= hour_of_day[i] or hour_of_day[i] < 5:\n",
        "        ambient_light.append(np.random.uniform(0.8, 1))  # High light requirement during evening and night hours\n",
        "    elif hour_of_day[i] >= 5 and hour_of_day[i] < 17:\n",
        "        ambient_light.append(np.random.uniform(0, 0.4))  # Low light requirement during daytime hours\n",
        "    else:\n",
        "        ambient_light.append(np.random.uniform(0.4, 0.6))  # Moderate light requirement for other conditions\n",
        "\n",
        "# Create DataFrame\n",
        "data = {\n",
        "    'no_of_pedestrian_walking': pedestrian_walking,\n",
        "    'vehicles': vehicles,\n",
        "    'weather_condition': weather_condition,\n",
        "    'hour_of_day': hour_of_day,\n",
        "    'ambient_light': ambient_light\n",
        "}\n",
        "\n",
        "df = pd.DataFrame(data)\n",
        "\n",
        "# Display the dataset\n",
        "print(df)\n"
      ]
    },
    {
      "cell_type": "code",
      "execution_count": null,
      "metadata": {
        "colab": {
          "base_uri": "https://localhost:8080/"
        },
        "id": "ivo6VQrcB7fe",
        "outputId": "009b531d-713c-440d-9679-5a3c8cbd8787"
      },
      "outputs": [
        {
          "name": "stdout",
          "output_type": "stream",
          "text": [
            "Regressor MSE: 0.004595685440419311\n",
            "Classifier Accuracy: 1.0\n"
          ]
        }
      ],
      "source": [
        "from sklearn.model_selection import train_test_split\n",
        "from sklearn.linear_model import LinearRegression\n",
        "from sklearn.ensemble import RandomForestRegressor, RandomForestClassifier\n",
        "from sklearn.metrics import mean_squared_error, accuracy_score\n",
        "\n",
        "# Split dataset into features (X) and target variables (y)\n",
        "X = df[['no_of_pedestrian_walking', 'vehicles', 'weather_condition', 'hour_of_day']]\n",
        "y_regressor = df['ambient_light']\n",
        "y_classifier = (df['ambient_light'] > 0.5).astype(int)  # Binary classification for light requirement\n",
        "\n",
        "# Convert categorical variables to dummy variables\n",
        "X = pd.get_dummies(X)\n",
        "\n",
        "# Split dataset into training and testing sets\n",
        "X_train, X_test, y_train_regressor, y_test_regressor, y_train_classifier, y_test_classifier = train_test_split(X, y_regressor, y_classifier, test_size=0.2, random_state=42)\n",
        "\n",
        "# Train regressor model\n",
        "regressor_model = RandomForestRegressor(n_estimators=100, random_state=42)\n",
        "regressor_model.fit(X_train, y_train_regressor)\n",
        "\n",
        "# Train classifier model\n",
        "classifier_model = RandomForestClassifier(n_estimators=100, random_state=42)\n",
        "classifier_model.fit(X_train, y_train_classifier)\n",
        "\n",
        "# Predictions\n",
        "y_pred_regressor = regressor_model.predict(X_test)\n",
        "y_pred_classifier = classifier_model.predict(X_test)\n",
        "\n",
        "# Evaluate regressor model\n",
        "mse = mean_squared_error(y_test_regressor, y_pred_regressor)\n",
        "print(\"Regressor MSE:\", mse)\n",
        "\n",
        "# Evaluate classifier model\n",
        "accuracy = accuracy_score(y_test_classifier, y_pred_classifier)\n",
        "print(\"Classifier Accuracy:\", accuracy*100)\n"
      ]
    },
    {
      "cell_type": "code",
      "execution_count": null,
      "metadata": {
        "colab": {
          "base_uri": "https://localhost:8080/"
        },
        "id": "xkjkzjQ2Ukyh",
        "outputId": "402e10a4-d0e2-461d-d4e4-b5407f8b7b72"
      },
      "outputs": [
        {
          "name": "stdout",
          "output_type": "stream",
          "text": [
            "Enter the number of pedestrians walking: 20\n",
            "Enter the number of vehicles: 10\n",
            "Enter the weather condition (Clear/Rain/Snow/Fog): clear\n",
            "Enter the hour of the day (0-23): 18\n",
            "Turn On Light?:  Yes\n",
            "Predicted Ambient Light Level: 68.45%\n"
          ]
        },
        {
          "name": "stderr",
          "output_type": "stream",
          "text": [
            "/usr/local/lib/python3.10/dist-packages/sklearn/base.py:439: UserWarning: X does not have valid feature names, but RandomForestClassifier was fitted with feature names\n",
            "  warnings.warn(\n",
            "/usr/local/lib/python3.10/dist-packages/sklearn/base.py:439: UserWarning: X does not have valid feature names, but RandomForestRegressor was fitted with feature names\n",
            "  warnings.warn(\n"
          ]
        }
      ],
      "source": [
        "def predict_light_requirement(classifier_model, regressor_model):\n",
        "    # Ask user to input values\n",
        "    pedestrian_walking = int(input(\"Enter the number of pedestrians walking: \"))\n",
        "    vehicles = int(input(\"Enter the number of vehicles: \"))\n",
        "    weather_condition = input(\"Enter the weather condition (Clear/Rain/Snow/Fog): \").capitalize()\n",
        "    hour_of_day = int(input(\"Enter the hour of the day (0-23): \"))\n",
        "\n",
        "    # Convert weather condition to dummy variable\n",
        "    weather_clear = 1 if weather_condition == 'Clear' else 0\n",
        "    weather_rain = 1 if weather_condition == 'Rain' else 0\n",
        "    weather_snow = 1 if weather_condition == 'Snow' else 0\n",
        "    weather_fog = 1 if weather_condition == 'Fog' else 0\n",
        "\n",
        "    # Create feature array\n",
        "    feature = [[pedestrian_walking, vehicles, hour_of_day, weather_clear, weather_rain, weather_snow, weather_fog]]\n",
        "\n",
        "    # Predict light requirement using classifier model\n",
        "    light_requirement = \"Yes\" if classifier_model.predict(feature)[0] == 1 else \"No\"\n",
        "\n",
        "    # Predict ambient light using regressor model\n",
        "    ambient_light = regressor_model.predict(feature)[0]\n",
        "\n",
        "    return light_requirement, ambient_light\n",
        "\n",
        "# Example usage\n",
        "light_requirement, ambient_light = predict_light_requirement(classifier_model, regressor_model)\n",
        "print(\"Turn On Light?: \", light_requirement)\n",
        "print(\"Predicted Ambient Light Level: {:.2f}%\".format(ambient_light * 100))"
      ]
    }
  ],
  "metadata": {
    "colab": {
      "provenance": []
    },
    "kernelspec": {
      "display_name": "Python 3",
      "name": "python3"
    },
    "language_info": {
      "name": "python"
    }
  },
  "nbformat": 4,
  "nbformat_minor": 0
}
